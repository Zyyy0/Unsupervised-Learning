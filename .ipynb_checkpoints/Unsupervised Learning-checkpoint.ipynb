{
 "cells": [
  {
   "cell_type": "markdown",
   "id": "c5aebd9b-fd85-4854-9531-cf05584ded03",
   "metadata": {},
   "source": [
    "## Unsupervised Learning"
   ]
  },
  {
   "cell_type": "code",
   "execution_count": 145,
   "id": "c147590a-233c-483c-936f-ea119e06d854",
   "metadata": {},
   "outputs": [],
   "source": [
    "import pandas as pd\n",
    "import numpy as np\n",
    "import seaborn as sns"
   ]
  },
  {
   "cell_type": "markdown",
   "id": "520d44a5-74a0-424e-b2e9-7ef92077c1db",
   "metadata": {},
   "source": [
    "### 載入資料集"
   ]
  },
  {
   "cell_type": "code",
   "execution_count": 146,
   "id": "e64e0a6e-8e8c-48c8-9b4b-5abc22b18147",
   "metadata": {},
   "outputs": [
    {
     "data": {
      "text/html": [
       "<div>\n",
       "<style scoped>\n",
       "    .dataframe tbody tr th:only-of-type {\n",
       "        vertical-align: middle;\n",
       "    }\n",
       "\n",
       "    .dataframe tbody tr th {\n",
       "        vertical-align: top;\n",
       "    }\n",
       "\n",
       "    .dataframe thead th {\n",
       "        text-align: right;\n",
       "    }\n",
       "</style>\n",
       "<table border=\"1\" class=\"dataframe\">\n",
       "  <thead>\n",
       "    <tr style=\"text-align: right;\">\n",
       "      <th></th>\n",
       "      <th>ph</th>\n",
       "      <th>Hardness</th>\n",
       "      <th>Solids</th>\n",
       "      <th>Chloramines</th>\n",
       "      <th>Sulfate</th>\n",
       "      <th>Conductivity</th>\n",
       "      <th>Organic_carbon</th>\n",
       "      <th>Trihalomethanes</th>\n",
       "      <th>Turbidity</th>\n",
       "      <th>Potability</th>\n",
       "    </tr>\n",
       "  </thead>\n",
       "  <tbody>\n",
       "    <tr>\n",
       "      <th>0</th>\n",
       "      <td>NaN</td>\n",
       "      <td>204.890456</td>\n",
       "      <td>20791.31898</td>\n",
       "      <td>7.300212</td>\n",
       "      <td>368.516441</td>\n",
       "      <td>564.308654</td>\n",
       "      <td>10.379783</td>\n",
       "      <td>86.990970</td>\n",
       "      <td>2.963135</td>\n",
       "      <td>0</td>\n",
       "    </tr>\n",
       "    <tr>\n",
       "      <th>1</th>\n",
       "      <td>3.71608</td>\n",
       "      <td>129.422921</td>\n",
       "      <td>18630.05786</td>\n",
       "      <td>6.635246</td>\n",
       "      <td>NaN</td>\n",
       "      <td>592.885359</td>\n",
       "      <td>15.180013</td>\n",
       "      <td>56.329076</td>\n",
       "      <td>4.500656</td>\n",
       "      <td>0</td>\n",
       "    </tr>\n",
       "  </tbody>\n",
       "</table>\n",
       "</div>"
      ],
      "text/plain": [
       "        ph    Hardness       Solids  ...  Trihalomethanes  Turbidity  Potability\n",
       "0      NaN  204.890456  20791.31898  ...        86.990970   2.963135           0\n",
       "1  3.71608  129.422921  18630.05786  ...        56.329076   4.500656           0\n",
       "\n",
       "[2 rows x 10 columns]"
      ]
     },
     "execution_count": 146,
     "metadata": {},
     "output_type": "execute_result"
    }
   ],
   "source": [
    "data = pd.read_csv('water_potability.csv')\n",
    "data.head(n = 2)"
   ]
  },
  {
   "cell_type": "markdown",
   "id": "2e22c152-8cf7-4ad9-b4e9-a0f7935f5751",
   "metadata": {},
   "source": [
    "### 去掉 NaN 值"
   ]
  },
  {
   "cell_type": "code",
   "execution_count": 147,
   "id": "c5a3362e-4e7f-4e70-8973-84096bb2ede8",
   "metadata": {},
   "outputs": [
    {
     "data": {
      "text/html": [
       "<div>\n",
       "<style scoped>\n",
       "    .dataframe tbody tr th:only-of-type {\n",
       "        vertical-align: middle;\n",
       "    }\n",
       "\n",
       "    .dataframe tbody tr th {\n",
       "        vertical-align: top;\n",
       "    }\n",
       "\n",
       "    .dataframe thead th {\n",
       "        text-align: right;\n",
       "    }\n",
       "</style>\n",
       "<table border=\"1\" class=\"dataframe\">\n",
       "  <thead>\n",
       "    <tr style=\"text-align: right;\">\n",
       "      <th></th>\n",
       "      <th>ph</th>\n",
       "      <th>Hardness</th>\n",
       "      <th>Solids</th>\n",
       "      <th>Chloramines</th>\n",
       "      <th>Sulfate</th>\n",
       "      <th>Conductivity</th>\n",
       "      <th>Organic_carbon</th>\n",
       "      <th>Trihalomethanes</th>\n",
       "      <th>Turbidity</th>\n",
       "      <th>Potability</th>\n",
       "    </tr>\n",
       "  </thead>\n",
       "  <tbody>\n",
       "    <tr>\n",
       "      <th>3</th>\n",
       "      <td>8.316766</td>\n",
       "      <td>214.373394</td>\n",
       "      <td>22018.41744</td>\n",
       "      <td>8.059332</td>\n",
       "      <td>356.886136</td>\n",
       "      <td>363.266516</td>\n",
       "      <td>18.436525</td>\n",
       "      <td>100.341674</td>\n",
       "      <td>4.628771</td>\n",
       "      <td>0</td>\n",
       "    </tr>\n",
       "    <tr>\n",
       "      <th>4</th>\n",
       "      <td>9.092223</td>\n",
       "      <td>181.101509</td>\n",
       "      <td>17978.98634</td>\n",
       "      <td>6.546600</td>\n",
       "      <td>310.135738</td>\n",
       "      <td>398.410813</td>\n",
       "      <td>11.558279</td>\n",
       "      <td>31.997993</td>\n",
       "      <td>4.075075</td>\n",
       "      <td>0</td>\n",
       "    </tr>\n",
       "  </tbody>\n",
       "</table>\n",
       "</div>"
      ],
      "text/plain": [
       "         ph    Hardness       Solids  ...  Trihalomethanes  Turbidity  Potability\n",
       "3  8.316766  214.373394  22018.41744  ...       100.341674   4.628771           0\n",
       "4  9.092223  181.101509  17978.98634  ...        31.997993   4.075075           0\n",
       "\n",
       "[2 rows x 10 columns]"
      ]
     },
     "execution_count": 147,
     "metadata": {},
     "output_type": "execute_result"
    }
   ],
   "source": [
    "newdata = data.dropna()\n",
    "newdata.head(n = 2)"
   ]
  },
  {
   "cell_type": "markdown",
   "id": "5559f5a9-919c-4e2e-93cb-5e312b2df86c",
   "metadata": {},
   "source": [
    "### 去掉 Potability"
   ]
  },
  {
   "cell_type": "code",
   "execution_count": 148,
   "id": "5390ba3a-c7c7-4f5d-8e8d-c31f1daae32e",
   "metadata": {},
   "outputs": [],
   "source": [
    "X = newdata.drop(columns=['Potability'])"
   ]
  },
  {
   "cell_type": "markdown",
   "id": "c733aa59-5a8e-44e5-ab14-04c590c4f5df",
   "metadata": {},
   "source": [
    "### 去掉 Potability 的值列出來"
   ]
  },
  {
   "cell_type": "code",
   "execution_count": 149,
   "id": "4287f91d-5761-447f-9bf3-ae0182f64b9e",
   "metadata": {},
   "outputs": [
    {
     "data": {
      "text/html": [
       "<div>\n",
       "<style scoped>\n",
       "    .dataframe tbody tr th:only-of-type {\n",
       "        vertical-align: middle;\n",
       "    }\n",
       "\n",
       "    .dataframe tbody tr th {\n",
       "        vertical-align: top;\n",
       "    }\n",
       "\n",
       "    .dataframe thead th {\n",
       "        text-align: right;\n",
       "    }\n",
       "</style>\n",
       "<table border=\"1\" class=\"dataframe\">\n",
       "  <thead>\n",
       "    <tr style=\"text-align: right;\">\n",
       "      <th></th>\n",
       "      <th>ph</th>\n",
       "      <th>Hardness</th>\n",
       "      <th>Solids</th>\n",
       "      <th>Chloramines</th>\n",
       "      <th>Sulfate</th>\n",
       "      <th>Conductivity</th>\n",
       "      <th>Organic_carbon</th>\n",
       "      <th>Trihalomethanes</th>\n",
       "      <th>Turbidity</th>\n",
       "    </tr>\n",
       "  </thead>\n",
       "  <tbody>\n",
       "    <tr>\n",
       "      <th>3</th>\n",
       "      <td>8.316766</td>\n",
       "      <td>214.373394</td>\n",
       "      <td>22018.41744</td>\n",
       "      <td>8.059332</td>\n",
       "      <td>356.886136</td>\n",
       "      <td>363.266516</td>\n",
       "      <td>18.436525</td>\n",
       "      <td>100.341674</td>\n",
       "      <td>4.628771</td>\n",
       "    </tr>\n",
       "    <tr>\n",
       "      <th>4</th>\n",
       "      <td>9.092223</td>\n",
       "      <td>181.101509</td>\n",
       "      <td>17978.98634</td>\n",
       "      <td>6.546600</td>\n",
       "      <td>310.135738</td>\n",
       "      <td>398.410813</td>\n",
       "      <td>11.558279</td>\n",
       "      <td>31.997993</td>\n",
       "      <td>4.075075</td>\n",
       "    </tr>\n",
       "  </tbody>\n",
       "</table>\n",
       "</div>"
      ],
      "text/plain": [
       "         ph    Hardness  ...  Trihalomethanes  Turbidity\n",
       "3  8.316766  214.373394  ...       100.341674   4.628771\n",
       "4  9.092223  181.101509  ...        31.997993   4.075075\n",
       "\n",
       "[2 rows x 9 columns]"
      ]
     },
     "execution_count": 149,
     "metadata": {},
     "output_type": "execute_result"
    }
   ],
   "source": [
    "X.head(n = 2)"
   ]
  },
  {
   "cell_type": "code",
   "execution_count": 150,
   "id": "f5caaf5a-fa5c-4c4a-a70a-a340a6e3b78b",
   "metadata": {},
   "outputs": [
    {
     "name": "stdout",
     "output_type": "stream",
     "text": [
      "             ph    Hardness  ...  Trihalomethanes  Turbidity\n",
      "3      8.316766  214.373394  ...       100.341674   4.628771\n",
      "4      9.092223  181.101509  ...        31.997993   4.075075\n",
      "5      5.584087  188.313324  ...        54.917862   2.559708\n",
      "6     10.223862  248.071735  ...        84.603556   2.672989\n",
      "7      8.635849  203.361523  ...        62.798309   4.401425\n",
      "...         ...         ...  ...              ...        ...\n",
      "3267   8.989900  215.047358  ...        55.069304   4.613843\n",
      "3268   6.702547  207.321086  ...        28.878601   3.442983\n",
      "3269  11.491011   94.812545  ...        41.558501   4.369264\n",
      "3270   6.069616  186.659040  ...        60.419921   3.669712\n",
      "3271   4.668102  193.681736  ...        66.687695   4.435821\n",
      "\n",
      "[2011 rows x 9 columns]\n"
     ]
    }
   ],
   "source": [
    "print(X)"
   ]
  },
  {
   "cell_type": "code",
   "execution_count": 151,
   "id": "71901588-8650-473a-99b7-32c235c59e7c",
   "metadata": {},
   "outputs": [
    {
     "name": "stderr",
     "output_type": "stream",
     "text": [
      "C:\\Users\\J\\.conda\\envs\\ML0\\lib\\site-packages\\sklearn\\cluster\\_kmeans.py:1416: FutureWarning: The default value of `n_init` will change from 10 to 'auto' in 1.4. Set the value of `n_init` explicitly to suppress the warning\n",
      "  super()._check_params_vs_input(X, default_n_init=10)\n"
     ]
    }
   ],
   "source": [
    "from sklearn.cluster import KMeans\n",
    "\n",
    "#kmeansModel = KMeans(n_clusters = 3, random_state = 46)\n",
    "kmeansModel = KMeans(n_clusters = 5)\n",
    "clusters_pred = kmeansModel.fit_predict(X)"
   ]
  },
  {
   "cell_type": "code",
   "execution_count": 152,
   "id": "0f539397-4c2a-4303-87ec-995aba5670da",
   "metadata": {},
   "outputs": [
    {
     "data": {
      "text/plain": [
       "11344249328.787613"
      ]
     },
     "execution_count": 152,
     "metadata": {},
     "output_type": "execute_result"
    }
   ],
   "source": [
    "kmeansModel.inertia_"
   ]
  },
  {
   "cell_type": "markdown",
   "id": "c47d527a-9e9c-44d2-8a4b-d2b2b7868dc6",
   "metadata": {},
   "source": [
    "kmeansModel.cluster_centers_"
   ]
  },
  {
   "cell_type": "code",
   "execution_count": 153,
   "id": "fbdba186-5785-4862-ade7-ce9214c5ae9a",
   "metadata": {},
   "outputs": [
    {
     "name": "stdout",
     "output_type": "stream",
     "text": [
      "Silhouette Score: 0.5253548813796294\n"
     ]
    }
   ],
   "source": [
    "from sklearn.metrics import silhouette_score\n",
    "silhouette_avg = silhouette_score(X, clusters_pred)\n",
    "print(\"Silhouette Score:\", silhouette_avg)"
   ]
  },
  {
   "cell_type": "markdown",
   "id": "d01caff6-244f-495e-b90a-cf3375e1065e",
   "metadata": {},
   "source": [
    "## GaussianMixture"
   ]
  },
  {
   "cell_type": "code",
   "execution_count": 157,
   "id": "cd501a99-7c12-4536-9abd-14c23e548f35",
   "metadata": {},
   "outputs": [
    {
     "name": "stdout",
     "output_type": "stream",
     "text": [
      "Silhouette Score: 0.08443755763911577\n"
     ]
    }
   ],
   "source": [
    "import pandas as pd\n",
    "from sklearn.mixture import GaussianMixture\n",
    "from sklearn.metrics import silhouette_score\n",
    "\n",
    "# Assuming you have already loaded your data\n",
    "data = pd.read_csv('water_potability.csv')\n",
    "\n",
    "# Drop rows with missing values\n",
    "newdata = data.dropna()\n",
    "\n",
    "# Extract features (X)\n",
    "X = newdata.drop(columns=['Potability'])\n",
    "\n",
    "# Choose the number of components (clusters) for GMM\n",
    "n_components = 3\n",
    "\n",
    "# Create GMM instance\n",
    "gmm_model = GaussianMixture(n_components = 3, random_state=46)\n",
    "\n",
    "# Fit the model to your data\n",
    "clusters_pred = gmm_model.fit_predict(X)\n",
    "\n",
    "# Get silhouette score\n",
    "silhouette_avg = silhouette_score(X, clusters_pred)\n",
    "print(\"Silhouette Score:\", silhouette_avg)"
   ]
  },
  {
   "cell_type": "markdown",
   "id": "09313891-a7b5-44c3-ad40-b83f96f0873b",
   "metadata": {},
   "source": [
    "### T-SNE\n",
    "### silhouette_score 是一個衡量聚類模型效能的指標，但是 t-SNE 並不是一個聚類模型，因此沒有 silhouette score。t-SNE 主要用於視覺化高維數據，它嘗試將相似的樣本映射到低維空間中的相鄰位置，但不提供聚類的概念"
   ]
  },
  {
   "cell_type": "code",
   "execution_count": 155,
   "id": "f069dbf9-f54d-4d1a-bdd1-e3ab43a47039",
   "metadata": {},
   "outputs": [
    {
     "data": {
      "image/png": "[encoded data removed]",
      "text/plain": [
       "<Figure size 432x288 with 2 Axes>"
      ]
     },
     "metadata": {},
     "output_type": "display_data"
    }
   ],
   "source": [
    "import pandas as pd\n",
    "from sklearn.manifold import TSNE\n",
    "import matplotlib.pyplot as plt\n",
    "\n",
    "# Assuming you have already loaded your data\n",
    "data = pd.read_csv('water_potability.csv')\n",
    "\n",
    "# Drop rows with missing values\n",
    "newdata = data.dropna()\n",
    "\n",
    "# Extract features (X)\n",
    "X = newdata.drop(columns=['Potability'])\n",
    "\n",
    "# Create t-SNE instance\n",
    "tsne_model = TSNE(random_state=46)\n",
    "\n",
    "# Fit the model to your data and transform it to lower-dimensional space\n",
    "X_tsne = tsne_model.fit_transform(X)\n",
    "\n",
    "# Visualize the data in 2D\n",
    "plt.scatter(X_tsne[:, 0], X_tsne[:, 1], c=newdata['Potability'], cmap='viridis')\n",
    "plt.title('t-SNE Visualization')\n",
    "plt.xlabel('t-SNE Dimension 1')\n",
    "plt.ylabel('t-SNE Dimension 2')\n",
    "plt.colorbar(label='Potability')\n",
    "plt.show()"
   ]
  },
  {
   "cell_type": "markdown",
   "id": "f26b1e07-1f40-4644-b6d4-f33402fc0e74",
   "metadata": {},
   "source": []
  },
  {
   "cell_type": "markdown",
   "id": "c3e1ee56-00b5-4cc3-9841-88a0d4d53380",
   "metadata": {},
   "source": [
    "## Clustering Algorithms:\n",
    "    K-Means\n",
    "    Hierarchical Clustering\n",
    "    DBSCAN\n",
    "    Gaussian Mixture Models(GMM)\n",
    "## Dimensionality Reduction Algorithms:\n",
    "    PCA\n",
    "    LDA\n",
    "    t_SNE\n",
    "    "
   ]
  },
  {
   "cell_type": "code",
   "execution_count": null,
   "id": "cfd087b3-bcf9-4cae-8534-6df7472536d8",
   "metadata": {},
   "outputs": [],
   "source": []
  }
 ],
 "metadata": {
  "kernelspec": {
   "display_name": "Python 3 (Spyder)",
   "language": "python3",
   "name": "python3"
  },
  "language_info": {
   "codemirror_mode": {
    "name": "ipython",
    "version": 3
   },
   "file_extension": ".py",
   "mimetype": "text/x-python",
   "name": "python",
   "nbconvert_exporter": "python",
   "pygments_lexer": "ipython3",
   "version": "3.8.18"
  }
 },
 "nbformat": 4,
 "nbformat_minor": 5
}
